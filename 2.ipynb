{
  "nbformat": 4,
  "nbformat_minor": 0,
  "metadata": {
    "colab": {
      "provenance": []
    },
    "kernelspec": {
      "name": "python3",
      "display_name": "Python 3"
    },
    "language_info": {
      "name": "python"
    }
  },
  "cells": [
    {
      "cell_type": "code",
      "source": [
        "import numpy as np\n",
        "import pandas as pd\n",
        "import tensorflow as tf\n",
        "from tensorflow.keras.models import Sequential\n",
        "from tensorflow.keras.layers import Conv2D, MaxPooling2D, Flatten, Dense, Dropout\n",
        "from tensorflow.keras.preprocessing.image import ImageDataGenerator"
      ],
      "metadata": {
        "id": "1T-MCTkX6WUv"
      },
      "execution_count": null,
      "outputs": []
    },
    {
      "cell_type": "code",
      "source": [
        "train_dir = '/content/drive/MyDrive/Rakib/Apple'\n",
        "validation_dir = '/content/drive/MyDrive/Rakib/Apple'\n",
        "test_dir = '/content/drive/MyDrive/Rakib/Apple'"
      ],
      "metadata": {
        "id": "UWsP9Rty6cy8"
      },
      "execution_count": null,
      "outputs": []
    },
    {
      "cell_type": "code",
      "source": [
        "img_width, img_height = 224, 224\n",
        "batch_size = 32"
      ],
      "metadata": {
        "id": "DWl9xYL16lu4"
      },
      "execution_count": null,
      "outputs": []
    },
    {
      "cell_type": "code",
      "source": [
        "train_datagen = ImageDataGenerator(\n",
        "    rescale=1./255,\n",
        "    shear_range=0.2,\n",
        "    zoom_range=0.2,\n",
        "    horizontal_flip=True\n",
        ")\n",
        "\n"
      ],
      "metadata": {
        "id": "32MVlwwE8Tww"
      },
      "execution_count": null,
      "outputs": []
    },
    {
      "cell_type": "code",
      "source": [
        "val_test_datagen = ImageDataGenerator(rescale=1./255)"
      ],
      "metadata": {
        "id": "E2KIslFf-JuG"
      },
      "execution_count": null,
      "outputs": []
    },
    {
      "cell_type": "code",
      "source": [
        "train_generator = train_datagen.flow_from_directory(\n",
        "    train_dir,\n",
        "    target_size=(img_width, img_height),\n",
        "    batch_size=batch_size,\n",
        "    class_mode='categorical'\n",
        ")"
      ],
      "metadata": {
        "colab": {
          "base_uri": "https://localhost:8080/"
        },
        "id": "VkrsGwHE-RhM",
        "outputId": "80053e02-d03f-4e36-c023-d40742063a40"
      },
      "execution_count": null,
      "outputs": [
        {
          "output_type": "stream",
          "name": "stdout",
          "text": [
            "Found 3000 images belonging to 3 classes.\n"
          ]
        }
      ]
    },
    {
      "cell_type": "code",
      "source": [
        "validation_generator = val_test_datagen.flow_from_directory(\n",
        "    validation_dir,\n",
        "    target_size=(img_width, img_height),\n",
        "    batch_size=batch_size,\n",
        "    class_mode='categorical'\n",
        ")\n"
      ],
      "metadata": {
        "colab": {
          "base_uri": "https://localhost:8080/"
        },
        "id": "r77W_Tdm-W6H",
        "outputId": "1e1d661d-ff95-4da7-f557-15989677e949"
      },
      "execution_count": null,
      "outputs": [
        {
          "output_type": "stream",
          "name": "stdout",
          "text": [
            "Found 3030 images belonging to 3 classes.\n"
          ]
        }
      ]
    },
    {
      "cell_type": "code",
      "source": [
        "test_generator = val_test_datagen.flow_from_directory(\n",
        "    test_dir,\n",
        "    target_size=(img_width, img_height),\n",
        "    batch_size=batch_size,\n",
        "    class_mode='categorical'\n",
        ")"
      ],
      "metadata": {
        "colab": {
          "base_uri": "https://localhost:8080/"
        },
        "id": "M3_KAo5y-cDO",
        "outputId": "2d519ffc-0624-4bca-81ff-11375b05485f"
      },
      "execution_count": null,
      "outputs": [
        {
          "output_type": "stream",
          "name": "stdout",
          "text": [
            "Found 3059 images belonging to 3 classes.\n"
          ]
        }
      ]
    },
    {
      "cell_type": "code",
      "source": [
        "# Build the CNN model\n",
        "model = Sequential()\n",
        "model.add(Conv2D(32, (3, 3), input_shape=(img_width, img_height, 3), activation='relu'))\n",
        "model.add(MaxPooling2D(pool_size=(2, 2)))\n",
        "model.add(Conv2D(64, (3, 3), activation='relu'))\n",
        "model.add(MaxPooling2D(pool_size=(2, 2)))\n",
        "model.add(Conv2D(128, (3, 3), activation='relu'))\n",
        "model.add(MaxPooling2D(pool_size=(2, 2)))\n",
        "model.add(Flatten())\n",
        "model.add(Dense(128, activation='relu'))\n",
        "model.add(Dropout(0.5))\n",
        "model.add(Dense(3, activation='softmax'))  # 3 output neurons for fresh, mild, and rotten classes"
      ],
      "metadata": {
        "id": "GT0bkRdI-iZy"
      },
      "execution_count": null,
      "outputs": []
    },
    {
      "cell_type": "code",
      "source": [
        "# Compile the model\n",
        "model.compile(optimizer='adam', loss='categorical_crossentropy', metrics=['accuracy'])"
      ],
      "metadata": {
        "id": "N7XxCeVy-oCy"
      },
      "execution_count": null,
      "outputs": []
    },
    {
      "cell_type": "code",
      "source": [
        "model.fit(\n",
        "    train_generator,\n",
        "    steps_per_epoch=train_generator.samples // batch_size,\n",
        "    epochs=10,\n",
        "    validation_data=validation_generator,\n",
        "    validation_steps=validation_generator.samples // batch_size\n",
        ")"
      ],
      "metadata": {
        "colab": {
          "base_uri": "https://localhost:8080/"
        },
        "id": "QE37eYnn-qVq",
        "outputId": "a29e13ca-ff63-4086-bb1f-0d2319534e65"
      },
      "execution_count": null,
      "outputs": [
        {
          "output_type": "stream",
          "name": "stdout",
          "text": [
            "Epoch 1/10\n",
            "93/93 [==============================] - 1529s 16s/step - loss: 0.1923 - accuracy: 0.9626 - val_loss: 0.1400 - val_accuracy: 0.9711\n",
            "Epoch 2/10\n",
            "93/93 [==============================] - 495s 5s/step - loss: 0.1200 - accuracy: 0.9710 - val_loss: 0.0945 - val_accuracy: 0.9707\n",
            "Epoch 3/10\n",
            "93/93 [==============================] - 456s 5s/step - loss: 0.1579 - accuracy: 0.9720 - val_loss: 0.0739 - val_accuracy: 0.9781\n",
            "Epoch 4/10\n",
            "93/93 [==============================] - 492s 5s/step - loss: 0.1132 - accuracy: 0.9714 - val_loss: 0.0772 - val_accuracy: 0.9761\n",
            "Epoch 5/10\n",
            "93/93 [==============================] - 490s 5s/step - loss: 0.0988 - accuracy: 0.9724 - val_loss: 0.0653 - val_accuracy: 0.9777\n",
            "Epoch 6/10\n",
            "93/93 [==============================] - 445s 5s/step - loss: 0.0922 - accuracy: 0.9778 - val_loss: 0.0757 - val_accuracy: 0.9761\n",
            "Epoch 7/10\n",
            "93/93 [==============================] - 444s 5s/step - loss: 0.0776 - accuracy: 0.9791 - val_loss: 0.0530 - val_accuracy: 0.9801\n",
            "Epoch 8/10\n",
            "93/93 [==============================] - 490s 5s/step - loss: 0.0610 - accuracy: 0.9805 - val_loss: 0.0481 - val_accuracy: 0.9840\n",
            "Epoch 9/10\n",
            "93/93 [==============================] - 489s 5s/step - loss: 0.0708 - accuracy: 0.9771 - val_loss: 0.0517 - val_accuracy: 0.9830\n",
            "Epoch 10/10\n",
            "93/93 [==============================] - 442s 5s/step - loss: 0.0607 - accuracy: 0.9794 - val_loss: 0.0489 - val_accuracy: 0.9811\n"
          ]
        },
        {
          "output_type": "execute_result",
          "data": {
            "text/plain": [
              "<keras.src.callbacks.History at 0x79912167fbe0>"
            ]
          },
          "metadata": {},
          "execution_count": 31
        }
      ]
    }
  ]
}